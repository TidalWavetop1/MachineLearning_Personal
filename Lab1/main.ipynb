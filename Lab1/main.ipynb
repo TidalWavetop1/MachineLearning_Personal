{
 "cells": [
  {
   "cell_type": "markdown",
   "id": "b6eaef43",
   "metadata": {},
   "source": [
    "## Bài thực hành 1: Làm quen với Python\n"
   ]
  },
  {
   "cell_type": "markdown",
   "id": "e8efb80e",
   "metadata": {},
   "source": [
    "### Chạy tập tin Python"
   ]
  },
  {
   "cell_type": "markdown",
   "id": "6b7e908f",
   "metadata": {},
   "source": [
    "#### Tính toán đơn giản"
   ]
  },
  {
   "cell_type": "code",
   "execution_count": null,
   "id": "88956d92",
   "metadata": {},
   "outputs": [
    {
     "name": "stdout",
     "output_type": "stream",
     "text": [
      "Calculator Basic\n",
      " c = 5 + 5 = 10\n"
     ]
    }
   ],
   "source": [
    "%run ex1_calc.py\n"
   ]
  },
  {
   "cell_type": "code",
   "execution_count": null,
   "id": "32df40fa",
   "metadata": {},
   "outputs": [
    {
     "name": "stdout",
     "output_type": "stream",
     "text": [
      "Calculator Basic\n",
      " c = 5 + 5 = 10\n"
     ]
    }
   ],
   "source": [
    "# chạy lại để thử nghiệm\n",
    "print(\"Calculator Basic\")\n",
    "a = int(input(\"Moi ban nhap so a: \"))\n",
    "b = int(input(\"Moi ban nhap so b: \"))\n",
    "c = a + b\n",
    "print(\" c = %d + %d = %d\" % (a, b, c))\n"
   ]
  }
 ],
 "metadata": {
  "kernelspec": {
   "display_name": "base",
   "language": "python",
   "name": "python3"
  },
  "language_info": {
   "codemirror_mode": {
    "name": "ipython",
    "version": 3
   },
   "file_extension": ".py",
   "mimetype": "text/x-python",
   "name": "python",
   "nbconvert_exporter": "python",
   "pygments_lexer": "ipython3",
   "version": "3.12.7"
  }
 },
 "nbformat": 4,
 "nbformat_minor": 5
}
